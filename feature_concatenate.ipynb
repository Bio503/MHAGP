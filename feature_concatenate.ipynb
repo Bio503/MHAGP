{
 "cells": [
  {
   "cell_type": "code",
   "execution_count": 1,
   "metadata": {
    "scrolled": true
   },
   "outputs": [
    {
     "name": "stdout",
     "output_type": "stream",
     "text": [
      "WARNING:tensorflow:From D:\\miniconda\\envs\\deeplearn\\lib\\site-packages\\tensorflow_core\\python\\compat\\v2_compat.py:65: disable_resource_variables (from tensorflow.python.ops.variable_scope) is deprecated and will be removed in a future version.\n",
      "Instructions for updating:\n",
      "non-resource variables are not supported in the long term\n"
     ]
    }
   ],
   "source": [
    "import warnings  \n",
    "with warnings.catch_warnings():\n",
    "    warnings.filterwarnings(\"ignore\",category=FutureWarning)\n",
    "    import numpy as np\n",
    "    import random\n",
    "    from util import normalization\n",
    "    import time"
   ]
  },
  {
   "cell_type": "code",
   "execution_count": 11,
   "metadata": {},
   "outputs": [],
   "source": [
    "path='./data/feature/'"
   ]
  },
  {
   "cell_type": "markdown",
   "metadata": {},
   "source": [
    "### GD network"
   ]
  },
  {
   "cell_type": "code",
   "execution_count": null,
   "metadata": {
    "collapsed": true
   },
   "outputs": [],
   "source": [
    "X_train_gd_node2vec = normalization(np.load('data/network_adj/X_train_gd_node2vec.npy')) \n",
    "X_train_gd_line = normalization(np.load('data/network_adj/X_train_ggdd_line.npy'))      \n",
    "X_train_gd_nl = np.concatenate((X_train_gd_node2vec,X_train_gd_line),axis=1)\n",
    "\n",
    "X_test_gd_node2vec = normalization(np.load('data/network_adj/X_test_gd_node2vec.npy'))    \n",
    "X_test_gd_line = normalization(np.load('data/network_adj/X_test_ggdd_line.npy')) \n",
    "X_test_gd_nl = np.concatenate((X_test_gd_node2vec,X_test_gd_line),axis=1)\n",
    "\n",
    "X_train_gd_nl = normalization(X_train_gd_nl) \n",
    "X_test_gd_nl = normalization(X_test_gd_nl)\n",
    "X_train_gd_nl.shape, X_test_gd_nl.shape     "
   ]
  },
  {
   "cell_type": "code",
   "execution_count": 5,
   "metadata": {},
   "outputs": [],
   "source": [
    "np.save('data/feature/X_train_gd_nl.npy',X_train_gd_nl)\n",
    "np.save('data/feature/X_test_gd_nl.npy',X_test_gd_nl)"
   ]
  },
  {
   "cell_type": "markdown",
   "metadata": {},
   "source": [
    "### GLD network"
   ]
  },
  {
   "cell_type": "code",
   "execution_count": null,
   "metadata": {
    "collapsed": true
   },
   "outputs": [],
   "source": [
    "X_train_gld_node2vec = normalization(np.load('data/network_adj/X_train_gld_node2vec.npy')) \n",
    "X_train_gld_line = normalization(np.load('data/network_adj/X_train_gld_line.npy'))      \n",
    "X_train_gld_nl = np.concatenate((X_train_gld_node2vec,X_train_gld_line),axis=1)\n",
    "\n",
    "X_test_gld_node2vec = normalization(np.load('data/network_adj/X_test_gld_node2vec.npy')) \n",
    "X_test_gld_line = normalization(np.load('data/network_adj/X_test_gld_line.npy')) \n",
    "X_test_gld_nl = np.concatenate((X_test_gld_node2vec,X_test_gld_line),axis=1)\n",
    "\n",
    "X_train_gld_nl = normalization(X_train_gld_nl)   \n",
    "X_test_gld_nl = normalization(X_test_gld_nl)\n",
    "X_train_gld_nl.shape, X_test_gld_nl.shape    "
   ]
  },
  {
   "cell_type": "code",
   "execution_count": 8,
   "metadata": {},
   "outputs": [],
   "source": [
    "np.save('data/feature/X_train_gld_nl.npy',X_train_gld_nl)\n",
    "np.save('data/feature/X_test_gld_nl.npy',X_test_gld_nl)"
   ]
  },
  {
   "cell_type": "markdown",
   "metadata": {},
   "source": [
    "### GMD network"
   ]
  },
  {
   "cell_type": "code",
   "execution_count": null,
   "metadata": {
    "collapsed": true
   },
   "outputs": [],
   "source": [
    "X_train_gmd_node2vec = normalization(np.load('data/network_adj/X_train_gmd_node2vec.npy'))  \n",
    "X_train_gmd_line = normalization(np.load('data/network_adj/X_train_gmd_line.npy'))    \n",
    "X_train_gmd_nl = np.concatenate((X_train_gmd_node2vec,X_train_gmd_line),axis=1)\n",
    "\n",
    "X_test_gmd_node2vec = normalization(np.load('data/network_adj/X_test_gmd_node2vec.npy'))       \n",
    "X_test_gmd_line = normalization(np.load('data/network_adj/X_test_gmd_line.npy')) \n",
    "X_test_gmd_nl = np.concatenate((X_test_gmd_node2vec,X_test_gmd_line),axis=1)\n",
    "\n",
    "X_train_gmd_nl = normalization(X_train_gmd_nl)    \n",
    "X_test_gmd_nl = normalization(X_test_gmd_nl)\n",
    "X_train_gmd_nl.shape, X_test_gmd_nl.shape       "
   ]
  },
  {
   "cell_type": "code",
   "execution_count": 10,
   "metadata": {},
   "outputs": [],
   "source": [
    "np.save('data/feature/X_train_gmd_nl.npy',X_train_gmd_nl)\n",
    "np.save('data/feature/X_test_gmd_nl.npy',X_test_gmd_nl)"
   ]
  }
 ],
 "metadata": {
  "kernelspec": {
   "display_name": "Python [conda env:deeplearn] *",
   "language": "python",
   "name": "conda-env-deeplearn-py"
  },
  "language_info": {
   "codemirror_mode": {
    "name": "ipython",
    "version": 3
   },
   "file_extension": ".py",
   "mimetype": "text/x-python",
   "name": "python",
   "nbconvert_exporter": "python",
   "pygments_lexer": "ipython3",
   "version": "3.7.13"
  }
 },
 "nbformat": 4,
 "nbformat_minor": 2
}
